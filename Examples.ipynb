{
 "cells": [
  {
   "cell_type": "markdown",
   "metadata": {},
   "source": [
    "### pyPDBeREST\n",
    "Below you can find some tips and examples on how to use pyDPBeREST."
   ]
  },
  {
   "cell_type": "code",
   "execution_count": 1,
   "metadata": {
    "collapsed": true
   },
   "outputs": [],
   "source": [
    "# to keep reloading the project (during testing)\n",
    "%load_ext autoreload\n",
    "%autoreload 2"
   ]
  },
  {
   "cell_type": "code",
   "execution_count": 2,
   "metadata": {
    "collapsed": false
   },
   "outputs": [],
   "source": [
    "# loading the module...\n",
    "from pdbe import pyPDBeREST\n",
    "p = pyPDBeREST()"
   ]
  },
  {
   "cell_type": "code",
   "execution_count": 3,
   "metadata": {
    "collapsed": false
   },
   "outputs": [
    {
     "data": {
      "text/plain": [
       "'0.1.0'"
      ]
     },
     "execution_count": 3,
     "metadata": {},
     "output_type": "execute_result"
    }
   ],
   "source": [
    "# printing out the version\n",
    "p.version"
   ]
  },
  {
   "cell_type": "code",
   "execution_count": 4,
   "metadata": {
    "collapsed": false
   },
   "outputs": [
    {
     "data": {
      "text/plain": [
       "'https://www.ebi.ac.uk/pdbe/'"
      ]
     },
     "execution_count": 4,
     "metadata": {},
     "output_type": "execute_result"
    }
   ],
   "source": [
    "# having a look at the default base_url\n",
    "p.base_url"
   ]
  },
  {
   "cell_type": "code",
   "execution_count": 5,
   "metadata": {
    "collapsed": false
   },
   "outputs": [
    {
     "data": {
      "text/plain": [
       "'https://wwwdev.ebi.ac.uk/pdbe/'"
      ]
     },
     "execution_count": 5,
     "metadata": {},
     "output_type": "execute_result"
    }
   ],
   "source": [
    "# one can also override the base url with the dev branch of the api\n",
    "# but this is not advisable unless you are testing new endpoints...\n",
    "p = pyPDBeREST(base_url='https://wwwdev.ebi.ac.uk/pdbe/')\n",
    "p.base_url"
   ]
  },
  {
   "cell_type": "code",
   "execution_count": 6,
   "metadata": {
    "collapsed": true
   },
   "outputs": [],
   "source": [
    "# base to the default\n",
    "p = pyPDBeREST()"
   ]
  },
  {
   "cell_type": "code",
   "execution_count": 7,
   "metadata": {
    "collapsed": false
   },
   "outputs": [
    {
     "name": "stdout",
     "output_type": "stream",
     "text": [
      "The following endpoints are available:\n",
      "    EMDB\n",
      "    SSM\n",
      "    SEARCH\n",
      "    SIFTS\n",
      "    COMPOUNDS\n",
      "    TOPOLOGY\n",
      "    VALIDATION\n",
      "    PDB\n",
      "    PISA\n"
     ]
    }
   ],
   "source": [
    "# printing out all the available method endpoints...\n",
    "print(p.endpoints())"
   ]
  },
  {
   "cell_type": "code",
   "execution_count": 8,
   "metadata": {
    "collapsed": false
   },
   "outputs": [
    {
     "data": {
      "text/plain": [
       "['EMDB',\n",
       " 'SSM',\n",
       " 'SEARCH',\n",
       " 'SIFTS',\n",
       " 'COMPOUNDS',\n",
       " 'TOPOLOGY',\n",
       " 'VALIDATION',\n",
       " 'PDB',\n",
       " 'PISA']"
      ]
     },
     "execution_count": 8,
     "metadata": {},
     "output_type": "execute_result"
    }
   ],
   "source": [
    "# the same information can be found in\n",
    "p.values"
   ]
  },
  {
   "cell_type": "code",
   "execution_count": 9,
   "metadata": {
    "collapsed": false
   },
   "outputs": [
    {
     "name": "stdout",
     "output_type": "stream",
     "text": [
      "The following endpoints are available:\n",
      "    getReleaseStatus\n",
      "    getBindingSites\n",
      "    getObservedRanges\n",
      "    getRelatedPublications\n",
      "    getResidueListingChain\n",
      "    getNmrResources\n",
      "    getExperiments\n",
      "    getSecondaryStructure\n",
      "    getVariousUrls\n",
      "    getModifiedResidues\n",
      "    getSummary\n",
      "    getResidueListing\n",
      "    getPublications\n",
      "    getLigands\n",
      "    getMutatedResidues\n",
      "    getMolecules\n"
     ]
    }
   ],
   "source": [
    "# for each of these top level endpoints, print available methods\n",
    "pdb = p.PDB\n",
    "print(pdb.endpoints())"
   ]
  },
  {
   "cell_type": "code",
   "execution_count": 10,
   "metadata": {
    "collapsed": false
   },
   "outputs": [
    {
     "data": {
      "text/plain": [
       "['getReleaseStatus',\n",
       " 'getBindingSites',\n",
       " 'getObservedRanges',\n",
       " 'getRelatedPublications',\n",
       " 'getResidueListingChain',\n",
       " 'getNmrResources',\n",
       " 'getExperiments',\n",
       " 'getSecondaryStructure',\n",
       " 'getVariousUrls',\n",
       " 'getModifiedResidues',\n",
       " 'getSummary',\n",
       " 'getResidueListing',\n",
       " 'getPublications',\n",
       " 'getLigands',\n",
       " 'getMutatedResidues',\n",
       " 'getMolecules']"
      ]
     },
     "execution_count": 10,
     "metadata": {},
     "output_type": "execute_result"
    }
   ],
   "source": [
    "# values...\n",
    "pdb.values"
   ]
  },
  {
   "cell_type": "code",
   "execution_count": 11,
   "metadata": {
    "collapsed": false
   },
   "outputs": [
    {
     "name": "stdout",
     "output_type": "stream",
     "text": [
      "{\n",
      "    \"1cbs\": [\n",
      "        {\n",
      "            \"related_structures\": [], \n",
      "            \"split_entry\": [], \n",
      "            \"title\": \"CRYSTAL STRUCTURE OF CELLULAR RETINOIC-ACID-BINDING PROTEINS I AND II IN COMPLEX WITH ALL-TRANS-RETINOIC ACID AND A SYNTHETIC RETINOID\", \n",
      "            \"release_date\": \"19950126\", \n",
      "            \"experimental_method\": [\n",
      "                \"X-ray diffraction\"\n",
      "            ], \n",
      "            \"experimental_method_class\": [\n",
      "                \"x-ray\"\n",
      "            ], \n",
      "            \"revision_date\": \"20090224\", \n",
      "            \"entry_authors\": [\n",
      "                \"Kleywegt, G.J.\", \n",
      "                \"Bergfors, T.\", \n",
      "                \"Jones, T.A.\"\n",
      "            ], \n",
      "            \"deposition_site\": null, \n",
      "            \"number_of_entities\": {\n",
      "                \"polypeptide\": 1, \n",
      "                \"dna\": 0, \n",
      "                \"ligand\": 1, \n",
      "                \"dna/rna\": 0, \n",
      "                \"rna\": 0, \n",
      "                \"sugar\": 0, \n",
      "                \"water\": 1, \n",
      "                \"other\": 0\n",
      "            }, \n",
      "            \"processing_site\": null, \n",
      "            \"deposition_date\": \"19940928\", \n",
      "            \"assemblies\": [\n",
      "                {\n",
      "                    \"assembly_id\": \"1\", \n",
      "                    \"form\": \"homo\", \n",
      "                    \"preferred\": true, \n",
      "                    \"name\": \"monomer\"\n",
      "                }\n",
      "            ]\n",
      "        }\n",
      "    ]\n",
      "}\n"
     ]
    }
   ],
   "source": [
    "# example of a GET query...\n",
    "data = pdb.getSummary(pdbid='1cbs')\n",
    "print(data)"
   ]
  },
  {
   "cell_type": "code",
   "execution_count": 12,
   "metadata": {
    "collapsed": false
   },
   "outputs": [
    {
     "name": "stdout",
     "output_type": "stream",
     "text": [
      "True\n"
     ]
    }
   ],
   "source": [
    "# two things to consider now\n",
    "# one is that the default output json mode is set to be 'pretty'\n",
    "print(p.pretty_json)"
   ]
  },
  {
   "cell_type": "code",
   "execution_count": 13,
   "metadata": {
    "collapsed": false
   },
   "outputs": [
    {
     "name": "stdout",
     "output_type": "stream",
     "text": [
      "False\n"
     ]
    }
   ],
   "source": [
    "# one can override that to compress the json output\n",
    "p = pyPDBeREST(pretty_json=False)\n",
    "print(p.pretty_json)"
   ]
  },
  {
   "cell_type": "code",
   "execution_count": 14,
   "metadata": {
    "collapsed": false
   },
   "outputs": [
    {
     "name": "stdout",
     "output_type": "stream",
     "text": [
      "{u'1cbs': [{u'related_structures': [], u'split_entry': [], u'title': u'CRYSTAL STRUCTURE OF CELLULAR RETINOIC-ACID-BINDING PROTEINS I AND II IN COMPLEX WITH ALL-TRANS-RETINOIC ACID AND A SYNTHETIC RETINOID', u'release_date': u'19950126', u'experimental_method': [u'X-ray diffraction'], u'experimental_method_class': [u'x-ray'], u'revision_date': u'20090224', u'entry_authors': [u'Kleywegt, G.J.', u'Bergfors, T.', u'Jones, T.A.'], u'deposition_site': None, u'number_of_entities': {u'polypeptide': 1, u'dna': 0, u'ligand': 1, u'dna/rna': 0, u'rna': 0, u'sugar': 0, u'water': 1, u'other': 0}, u'processing_site': None, u'deposition_date': u'19940928', u'assemblies': [{u'assembly_id': u'1', u'form': u'homo', u'preferred': True, u'name': u'monomer'}]}]}\n"
     ]
    }
   ],
   "source": [
    "# running the same example...\n",
    "pdb = p.PDB\n",
    "data = pdb.getSummary(pdbid='1cbs')\n",
    "print(data)"
   ]
  },
  {
   "cell_type": "code",
   "execution_count": 15,
   "metadata": {
    "collapsed": true
   },
   "outputs": [],
   "source": [
    "# the second aspect is that for each endpoint one might want to try learn more about \n",
    "# which params are needed, etc.\n",
    "p = pyPDBeREST()\n",
    "pdb = p.PDB"
   ]
  },
  {
   "cell_type": "code",
   "execution_count": 16,
   "metadata": {
    "collapsed": false
   },
   "outputs": [
    {
     "name": "stdout",
     "output_type": "stream",
     "text": [
      "Summary.\n",
      "This call provides a summary of properties of a PDB entry, such as the title of the entry, list of depositors, date of deposition, date of release, date of latest revision, experimental method, list of related entries in case split entries, etc.\n"
     ]
    }
   ],
   "source": [
    "# read the doc provided for each method\n",
    "print(pdb.getSummary.doc)"
   ]
  },
  {
   "cell_type": "code",
   "execution_count": 17,
   "metadata": {
    "collapsed": false
   },
   "outputs": [
    {
     "name": "stdout",
     "output_type": "stream",
     "text": [
      "https://www.ebi.ac.uk/pdbe/api/pdb/entry/summary/{{pdbid}}\n"
     ]
    }
   ],
   "source": [
    "# getting a look on the url\n",
    "print(p.base_url + pdb.getSummary.url)"
   ]
  },
  {
   "cell_type": "code",
   "execution_count": 18,
   "metadata": {
    "collapsed": false
   },
   "outputs": [
    {
     "name": "stdout",
     "output_type": "stream",
     "text": [
      "['pdbid']\n",
      "{'pdbid': {'doc': '4-character PDB id code. (e.g. 1cbs).\\nFor POST requests, data should contain one or more comma-separated ids.', 'type': <type 'str'>}}\n"
     ]
    }
   ],
   "source": [
    "# getting to know which params are needed for a particular endpoint\n",
    "print(pdb.getSummary.var.keys())\n",
    "print(pdb.getSummary.var)"
   ]
  },
  {
   "cell_type": "code",
   "execution_count": 19,
   "metadata": {
    "collapsed": false
   },
   "outputs": [
    {
     "name": "stdout",
     "output_type": "stream",
     "text": [
      "4-character PDB id code. (e.g. 1cbs).\n",
      "For POST requests, data should contain one or more comma-separated ids.\n"
     ]
    }
   ],
   "source": [
    "# getting to read the doc provided for each param\n",
    "print(pdb.getSummary.var['pdbid']['doc'])"
   ]
  },
  {
   "cell_type": "code",
   "execution_count": 20,
   "metadata": {
    "collapsed": false
   },
   "outputs": [
    {
     "name": "stdout",
     "output_type": "stream",
     "text": [
      "['GET', 'POST']\n"
     ]
    },
    {
     "data": {
      "text/plain": [
       "True"
      ]
     },
     "execution_count": 20,
     "metadata": {},
     "output_type": "execute_result"
    }
   ],
   "source": [
    "# checking whether this method allows for POST requests\n",
    "print(pdb.getSummary.method)\n",
    "'POST' in pdb.getSummary.method"
   ]
  },
  {
   "cell_type": "code",
   "execution_count": 21,
   "metadata": {
    "collapsed": false
   },
   "outputs": [
    {
     "name": "stdout",
     "output_type": "stream",
     "text": [
      "{\n",
      "    \"1cbs\": [\n",
      "        {\n",
      "            \"related_structures\": [], \n",
      "            \"split_entry\": [], \n",
      "            \"title\": \"CRYSTAL STRUCTURE OF CELLULAR RETINOIC-ACID-BINDING PROTEINS I AND II IN COMPLEX WITH ALL-TRANS-RETINOIC ACID AND A SYNTHETIC RETINOID\", \n",
      "            \"release_date\": \"19950126\", \n",
      "            \"experimental_method\": [\n",
      "                \"X-ray diffraction\"\n",
      "            ], \n",
      "            \"experimental_method_class\": [\n",
      "                \"x-ray\"\n",
      "            ], \n",
      "            \"revision_date\": \"20090224\", \n",
      "            \"entry_authors\": [\n",
      "                \"Kleywegt, G.J.\", \n",
      "                \"Bergfors, T.\", \n",
      "                \"Jones, T.A.\"\n",
      "            ], \n",
      "            \"deposition_site\": null, \n",
      "            \"number_of_entities\": {\n",
      "                \"polypeptide\": 1, \n",
      "                \"dna\": 0, \n",
      "                \"ligand\": 1, \n",
      "                \"dna/rna\": 0, \n",
      "                \"rna\": 0, \n",
      "                \"sugar\": 0, \n",
      "                \"water\": 1, \n",
      "                \"other\": 0\n",
      "            }, \n",
      "            \"processing_site\": null, \n",
      "            \"deposition_date\": \"19940928\", \n",
      "            \"assemblies\": [\n",
      "                {\n",
      "                    \"assembly_id\": \"1\", \n",
      "                    \"form\": \"homo\", \n",
      "                    \"preferred\": true, \n",
      "                    \"name\": \"monomer\"\n",
      "                }\n",
      "            ]\n",
      "        }\n",
      "    ], \n",
      "    \"2pah\": [\n",
      "        {\n",
      "            \"related_structures\": [], \n",
      "            \"split_entry\": [], \n",
      "            \"title\": \"TETRAMERIC HUMAN PHENYLALANINE HYDROXYLASE\", \n",
      "            \"release_date\": \"19991006\", \n",
      "            \"experimental_method\": [\n",
      "                \"X-ray diffraction\"\n",
      "            ], \n",
      "            \"experimental_method_class\": [\n",
      "                \"x-ray\"\n",
      "            ], \n",
      "            \"revision_date\": \"20110713\", \n",
      "            \"entry_authors\": [\n",
      "                \"Stevens, R.C.\", \n",
      "                \"Fusetti, F.\", \n",
      "                \"Erlandsen, H.\"\n",
      "            ], \n",
      "            \"deposition_site\": \"BNL\", \n",
      "            \"number_of_entities\": {\n",
      "                \"polypeptide\": 1, \n",
      "                \"dna\": 0, \n",
      "                \"ligand\": 1, \n",
      "                \"dna/rna\": 0, \n",
      "                \"rna\": 0, \n",
      "                \"sugar\": 0, \n",
      "                \"water\": 0, \n",
      "                \"other\": 0\n",
      "            }, \n",
      "            \"processing_site\": \"RCSB\", \n",
      "            \"deposition_date\": \"19980526\", \n",
      "            \"assemblies\": [\n",
      "                {\n",
      "                    \"assembly_id\": \"1\", \n",
      "                    \"form\": \"homo\", \n",
      "                    \"preferred\": true, \n",
      "                    \"name\": \"tetramer\"\n",
      "                }\n",
      "            ]\n",
      "        }\n",
      "    ]\n",
      "}\n"
     ]
    }
   ],
   "source": [
    "# now that we know POST request can be made to this endpoint let's try\n",
    "# an example POST query...\n",
    "# up to 1000 pdb ids can be queried with post methods\n",
    "data = pdb.getSummary(pdbid='1cbs, 2pah', method='POST')\n",
    "print(data)"
   ]
  },
  {
   "cell_type": "code",
   "execution_count": 22,
   "metadata": {
    "collapsed": false
   },
   "outputs": [
    {
     "name": "stdout",
     "output_type": "stream",
     "text": [
      "{u'1cbs': [{u'related_structures': [], u'split_entry': [], u'assemblies': [{u'name': u'monomer', u'preferred': True, u'form': u'homo', u'assembly_id': u'1'}], u'title': u'CRYSTAL STRUCTURE OF CELLULAR RETINOIC-ACID-BINDING PROTEINS I AND II IN COMPLEX WITH ALL-TRANS-RETINOIC ACID AND A SYNTHETIC RETINOID', u'release_date': u'19950126', u'experimental_method_class': [u'x-ray'], u'revision_date': u'20090224', u'entry_authors': [u'Kleywegt, G.J.', u'Bergfors, T.', u'Jones, T.A.'], u'deposition_site': None, u'number_of_entities': {u'polypeptide': 1, u'dna': 0, u'ligand': 1, u'dna/rna': 0, u'rna': 0, u'sugar': 0, u'water': 1, u'other': 0}, u'processing_site': None, u'deposition_date': u'19940928', u'experimental_method': [u'X-ray diffraction']}], u'2pah': [{u'related_structures': [], u'split_entry': [], u'assemblies': [{u'name': u'tetramer', u'preferred': True, u'form': u'homo', u'assembly_id': u'1'}], u'title': u'TETRAMERIC HUMAN PHENYLALANINE HYDROXYLASE', u'release_date': u'19991006', u'experimental_method_class': [u'x-ray'], u'revision_date': u'20110713', u'entry_authors': [u'Stevens, R.C.', u'Fusetti, F.', u'Erlandsen, H.'], u'deposition_site': u'BNL', u'number_of_entities': {u'polypeptide': 1, u'dna': 0, u'ligand': 1, u'dna/rna': 0, u'rna': 0, u'sugar': 0, u'water': 0, u'other': 0}, u'processing_site': u'RCSB', u'deposition_date': u'19980526', u'experimental_method': [u'X-ray diffraction']}]}\n"
     ]
    }
   ],
   "source": [
    "# loading the data into python common data-structures\n",
    "import json\n",
    "pdata = json.loads(data)\n",
    "print(pdata)"
   ]
  },
  {
   "cell_type": "markdown",
   "metadata": {
    "collapsed": true
   },
   "source": [
    "#### This is pretty much all you can do with the wrapper atm\n",
    "Below you can find an example usage at every available endpoint"
   ]
  },
  {
   "cell_type": "markdown",
   "metadata": {},
   "source": [
    "**PDB**"
   ]
  },
  {
   "cell_type": "code",
   "execution_count": 23,
   "metadata": {
    "collapsed": false
   },
   "outputs": [
    {
     "name": "stdout",
     "output_type": "stream",
     "text": [
      "The following endpoints are available:\n",
      "    getReleaseStatus\n",
      "    getBindingSites\n",
      "    getObservedRanges\n",
      "    getRelatedPublications\n",
      "    getResidueListingChain\n",
      "    getNmrResources\n",
      "    getExperiments\n",
      "    getSecondaryStructure\n",
      "    getVariousUrls\n",
      "    getModifiedResidues\n",
      "    getSummary\n",
      "    getResidueListing\n",
      "    getPublications\n",
      "    getLigands\n",
      "    getMutatedResidues\n",
      "    getMolecules\n"
     ]
    }
   ],
   "source": [
    "# using default parameters and compressed json output\n",
    "p = pyPDBeREST(pretty_json=False)\n",
    "print(p.PDB.endpoints())"
   ]
  },
  {
   "cell_type": "code",
   "execution_count": null,
   "metadata": {
    "collapsed": true
   },
   "outputs": [],
   "source": [
    "# Not running everything here because the output can be massive..."
   ]
  },
  {
   "cell_type": "code",
   "execution_count": null,
   "metadata": {
    "collapsed": false
   },
   "outputs": [],
   "source": [
    "print(p.PDB.getReleaseStatus(pdbid='2pah'))"
   ]
  },
  {
   "cell_type": "code",
   "execution_count": null,
   "metadata": {
    "collapsed": false
   },
   "outputs": [],
   "source": [
    "print(p.PDB.getSummary(pdbid='2pah'))"
   ]
  },
  {
   "cell_type": "code",
   "execution_count": null,
   "metadata": {
    "collapsed": false
   },
   "outputs": [],
   "source": [
    "print(p.PDB.getBindingSites(pdbid='2pah'))"
   ]
  },
  {
   "cell_type": "code",
   "execution_count": null,
   "metadata": {
    "collapsed": false
   },
   "outputs": [],
   "source": [
    "print(p.PDB.getObservedRanges(pdbid='2pah'))"
   ]
  },
  {
   "cell_type": "code",
   "execution_count": null,
   "metadata": {
    "collapsed": false
   },
   "outputs": [],
   "source": [
    "print(p.PDB.getRelatedPublications(pdbid='2pah'))"
   ]
  },
  {
   "cell_type": "code",
   "execution_count": null,
   "metadata": {
    "collapsed": false
   },
   "outputs": [],
   "source": [
    "print(p.PDB.getResidueListingChain(pdbid='2pah', chainid='A'))"
   ]
  },
  {
   "cell_type": "code",
   "execution_count": null,
   "metadata": {
    "collapsed": false
   },
   "outputs": [],
   "source": [
    "# needs an NMR structure\n",
    "print(p.PDB.getNmrResources(pdbid='2k8v'))"
   ]
  },
  {
   "cell_type": "code",
   "execution_count": null,
   "metadata": {
    "collapsed": false
   },
   "outputs": [],
   "source": [
    "print(p.PDB.getExperiments(pdbid='2pah'))"
   ]
  },
  {
   "cell_type": "code",
   "execution_count": null,
   "metadata": {
    "collapsed": false
   },
   "outputs": [],
   "source": [
    "print(p.PDB.getVariousUrls(pdbid='2pah'))"
   ]
  },
  {
   "cell_type": "code",
   "execution_count": null,
   "metadata": {
    "collapsed": false
   },
   "outputs": [],
   "source": [
    "# needs a pdbid with DNA or RNA\n",
    "print(p.PDB.getModifiedResidues(pdbid='4v5j'))"
   ]
  },
  {
   "cell_type": "code",
   "execution_count": null,
   "metadata": {
    "collapsed": false
   },
   "outputs": [],
   "source": [
    "print(p.PDB.getResidueListing(pdbid='2pah'))"
   ]
  },
  {
   "cell_type": "code",
   "execution_count": null,
   "metadata": {
    "collapsed": false
   },
   "outputs": [],
   "source": [
    "print(p.PDB.getExperiments(pdbid='2pah'))"
   ]
  },
  {
   "cell_type": "code",
   "execution_count": null,
   "metadata": {
    "collapsed": false
   },
   "outputs": [],
   "source": [
    "print(p.PDB.getPublications(pdbid='2pah'))"
   ]
  },
  {
   "cell_type": "code",
   "execution_count": null,
   "metadata": {
    "collapsed": false
   },
   "outputs": [],
   "source": [
    "# needs a structure with mutated residues\n",
    "print(p.PDB.getMutatedResidues(pdbid='1bgj'))"
   ]
  },
  {
   "cell_type": "code",
   "execution_count": null,
   "metadata": {
    "collapsed": false
   },
   "outputs": [],
   "source": [
    "print(p.PDB.getMolecules(pdbid='2pah'))"
   ]
  },
  {
   "cell_type": "code",
   "execution_count": null,
   "metadata": {
    "collapsed": false
   },
   "outputs": [],
   "source": [
    "# post method\n",
    "print(p.PDB.getSummary(pdbid='2pah, 1cbs', method='POST'))"
   ]
  },
  {
   "cell_type": "markdown",
   "metadata": {},
   "source": [
    "**COMPOUNDS**"
   ]
  },
  {
   "cell_type": "code",
   "execution_count": 24,
   "metadata": {
    "collapsed": false
   },
   "outputs": [
    {
     "name": "stdout",
     "output_type": "stream",
     "text": [
      "The following endpoints are available:\n",
      "    getBounds\n",
      "    getAtoms\n",
      "    getSummary\n",
      "    getInPdbs\n"
     ]
    }
   ],
   "source": [
    "print(p.COMPOUNDS.endpoints())"
   ]
  },
  {
   "cell_type": "code",
   "execution_count": null,
   "metadata": {
    "collapsed": false
   },
   "outputs": [],
   "source": [
    "print(p.COMPOUNDS.getBounds(compid='ATP'))"
   ]
  },
  {
   "cell_type": "code",
   "execution_count": null,
   "metadata": {
    "collapsed": false
   },
   "outputs": [],
   "source": [
    "print(p.COMPOUNDS.getAtoms(compid='ATP'))"
   ]
  },
  {
   "cell_type": "code",
   "execution_count": null,
   "metadata": {
    "collapsed": false
   },
   "outputs": [],
   "source": [
    "print(p.COMPOUNDS.getSummary(compid='ATP'))"
   ]
  },
  {
   "cell_type": "code",
   "execution_count": null,
   "metadata": {
    "collapsed": false
   },
   "outputs": [],
   "source": [
    "print(p.COMPOUNDS.getInPdbs(compid='ATP'))"
   ]
  },
  {
   "cell_type": "code",
   "execution_count": null,
   "metadata": {
    "collapsed": false
   },
   "outputs": [],
   "source": [
    "# post method\n",
    "print(p.COMPOUNDS.getSummary(compid='ATP, HEM', method='POST'))"
   ]
  },
  {
   "cell_type": "markdown",
   "metadata": {},
   "source": [
    "**EMDB**"
   ]
  },
  {
   "cell_type": "code",
   "execution_count": 25,
   "metadata": {
    "collapsed": false
   },
   "outputs": [
    {
     "name": "stdout",
     "output_type": "stream",
     "text": [
      "The following endpoints are available:\n",
      "    getInfo\n"
     ]
    }
   ],
   "source": [
    "print(p.EMDB.endpoints())"
   ]
  },
  {
   "cell_type": "code",
   "execution_count": null,
   "metadata": {
    "collapsed": false
   },
   "outputs": [],
   "source": [
    "print(p.EMDB.getInfo(property='summary', emdbid='EMD-1200'))"
   ]
  },
  {
   "cell_type": "markdown",
   "metadata": {},
   "source": [
    "**SIFTS**"
   ]
  },
  {
   "cell_type": "code",
   "execution_count": 26,
   "metadata": {
    "collapsed": false
   },
   "outputs": [
    {
     "name": "stdout",
     "output_type": "stream",
     "text": [
      "The following endpoints are available:\n",
      "    getPdbPfam\n",
      "    getHomologene\n",
      "    getPdbGo\n",
      "    getSequenceDomains\n",
      "    getBestStructures\n",
      "    getMappings\n",
      "    getPdbInterpro\n",
      "    getPdbUniprot\n",
      "    getPdbCath\n",
      "    getPdbEc\n",
      "    getStructuralDomains\n",
      "    getPdbScop\n"
     ]
    }
   ],
   "source": [
    "print(p.SIFTS.endpoints())"
   ]
  },
  {
   "cell_type": "code",
   "execution_count": null,
   "metadata": {
    "collapsed": false
   },
   "outputs": [],
   "source": [
    "print(p.SIFTS.getMappings(accession='1cbs'))"
   ]
  },
  {
   "cell_type": "code",
   "execution_count": null,
   "metadata": {
    "collapsed": false
   },
   "outputs": [],
   "source": [
    "print(p.SIFTS.getPdbPfam(pdbid='1cbs'))"
   ]
  },
  {
   "cell_type": "code",
   "execution_count": null,
   "metadata": {
    "collapsed": false
   },
   "outputs": [],
   "source": [
    "print(p.SIFTS.getPdbGo(pdbid='1cbs'))"
   ]
  },
  {
   "cell_type": "code",
   "execution_count": null,
   "metadata": {
    "collapsed": false
   },
   "outputs": [],
   "source": [
    "print(p.SIFTS.getPdbInterpro(pdbid='1cbs'))"
   ]
  },
  {
   "cell_type": "code",
   "execution_count": null,
   "metadata": {
    "collapsed": false
   },
   "outputs": [],
   "source": [
    "print(p.SIFTS.getPdbUniprot(pdbid='1cbs'))"
   ]
  },
  {
   "cell_type": "code",
   "execution_count": null,
   "metadata": {
    "collapsed": false
   },
   "outputs": [],
   "source": [
    "print(p.SIFTS.getPdbCath(pdbid='1cbs'))"
   ]
  },
  {
   "cell_type": "code",
   "execution_count": null,
   "metadata": {
    "collapsed": false
   },
   "outputs": [],
   "source": [
    "print(p.SIFTS.getPdbEc(pdbid='2pah'))"
   ]
  },
  {
   "cell_type": "code",
   "execution_count": null,
   "metadata": {
    "collapsed": false
   },
   "outputs": [],
   "source": [
    "print(p.SIFTS.getPdbScop(pdbid='1cbs'))"
   ]
  },
  {
   "cell_type": "code",
   "execution_count": null,
   "metadata": {
    "collapsed": false
   },
   "outputs": [],
   "source": [
    "print(p.SIFTS.getSequenceDomains(pdbid='1cbs'))"
   ]
  },
  {
   "cell_type": "code",
   "execution_count": null,
   "metadata": {
    "collapsed": false
   },
   "outputs": [],
   "source": [
    "print(p.SIFTS.getStructuralDomains(pdbid='1cbs'))"
   ]
  },
  {
   "cell_type": "code",
   "execution_count": null,
   "metadata": {
    "collapsed": false
   },
   "outputs": [],
   "source": [
    "print(p.SIFTS.getBestStructures(uniprotid='P29373'))"
   ]
  },
  {
   "cell_type": "code",
   "execution_count": null,
   "metadata": {
    "collapsed": false
   },
   "outputs": [],
   "source": [
    "print(p.SIFTS.getHomologene(pdbid='1cbs', entity='1'))"
   ]
  },
  {
   "cell_type": "markdown",
   "metadata": {},
   "source": [
    "**PISA**"
   ]
  },
  {
   "cell_type": "code",
   "execution_count": 27,
   "metadata": {
    "collapsed": false
   },
   "outputs": [
    {
     "name": "stdout",
     "output_type": "stream",
     "text": [
      "The following endpoints are available:\n",
      "    getInterfaces\n",
      "    getAssembly\n",
      "    getNumberInterfaces\n",
      "    getInterfacesList\n",
      "    getPdbsList\n",
      "    getAnalysis\n",
      "    getAsisDetails\n",
      "    getNumberEntries\n",
      "    getAsisSummary\n",
      "    getAssembliesList\n",
      "    getMonomersList\n",
      "    getAsisComponent\n",
      "    getInterfaceDetails\n",
      "    getAssemblyDetails\n",
      "    getAssemblyComponent\n",
      "    getVersion\n",
      "    getMonomerComponent\n",
      "    getInterfaceComponent\n",
      "    getMonomerDetails\n",
      "    getAsisList\n"
     ]
    }
   ],
   "source": [
    "print(p.PISA.endpoints())"
   ]
  },
  {
   "cell_type": "code",
   "execution_count": null,
   "metadata": {
    "collapsed": false
   },
   "outputs": [],
   "source": [
    "print(p.PISA.getVersion())"
   ]
  },
  {
   "cell_type": "code",
   "execution_count": null,
   "metadata": {
    "collapsed": false
   },
   "outputs": [],
   "source": [
    "print(p.PISA.getNumberEntries())"
   ]
  },
  {
   "cell_type": "code",
   "execution_count": null,
   "metadata": {
    "collapsed": false
   },
   "outputs": [],
   "source": [
    "print(p.PISA.getPdbsList())"
   ]
  },
  {
   "cell_type": "code",
   "execution_count": null,
   "metadata": {
    "collapsed": false
   },
   "outputs": [],
   "source": [
    "print(p.PISA.getAsisList(pdbid='3gcb'))"
   ]
  },
  {
   "cell_type": "code",
   "execution_count": null,
   "metadata": {
    "collapsed": false
   },
   "outputs": [],
   "source": [
    "print(p.PISA.getAsisDetails(pdbid='3gcb', assemblyid='0'))"
   ]
  },
  {
   "cell_type": "code",
   "execution_count": null,
   "metadata": {
    "collapsed": false
   },
   "outputs": [],
   "source": [
    "print(p.PISA.getAsisSummary(pdbid='3gcb', assemblyid='0'))"
   ]
  },
  {
   "cell_type": "code",
   "execution_count": null,
   "metadata": {
    "collapsed": false
   },
   "outputs": [],
   "source": [
    "print(p.PISA.getAsisComponent(pdbid='3gcb', assemblyid='0',\n",
    "                              assembly_component='energetics'))"
   ]
  },
  {
   "cell_type": "code",
   "execution_count": null,
   "metadata": {
    "collapsed": false
   },
   "outputs": [],
   "source": [
    "print(p.PISA.getAssembly(pdbid='3gcb', assemblyid='0',\n",
    "                         set=0, assembly_index=0))"
   ]
  },
  {
   "cell_type": "code",
   "execution_count": null,
   "metadata": {
    "collapsed": false
   },
   "outputs": [],
   "source": [
    "print(p.PISA.getAnalysis(pdbid='3gcb', assemblyid='0'))"
   ]
  },
  {
   "cell_type": "code",
   "execution_count": null,
   "metadata": {
    "collapsed": false
   },
   "outputs": [],
   "source": [
    "print(p.PISA.getAssembliesList(pdbid='3gcb', assemblyid='0'))"
   ]
  },
  {
   "cell_type": "code",
   "execution_count": null,
   "metadata": {
    "collapsed": false
   },
   "outputs": [],
   "source": [
    "print(p.PISA.getAssemblyDetails(pdbid='3gcb', assemblyid='0',\n",
    "                                assembly_index=0))"
   ]
  },
  {
   "cell_type": "code",
   "execution_count": null,
   "metadata": {
    "collapsed": false
   },
   "outputs": [],
   "source": [
    "print(p.PISA.getAssemblyComponent(pdbid='3gcb', assemblyid='0',\n",
    "                                  assembly_index=0,\n",
    "                                  assembly_component='energetics'))"
   ]
  },
  {
   "cell_type": "code",
   "execution_count": null,
   "metadata": {
    "collapsed": false
   },
   "outputs": [],
   "source": [
    "print(p.PISA.getMonomersList(pdbid='3gcb', assemblyid='0'))"
   ]
  },
  {
   "cell_type": "code",
   "execution_count": null,
   "metadata": {
    "collapsed": false
   },
   "outputs": [],
   "source": [
    "print(p.PISA.getMonomerDetails(pdbid='3gcb', assemblyid='0',\n",
    "                               monomer_index=1))"
   ]
  },
  {
   "cell_type": "code",
   "execution_count": null,
   "metadata": {
    "collapsed": false
   },
   "outputs": [],
   "source": [
    "print(p.PISA.getMonomerComponent(pdbid='3gcb', assemblyid='0',\n",
    "                                 monomer_index=1,\n",
    "                                 monomer_component='energetics'))"
   ]
  },
  {
   "cell_type": "code",
   "execution_count": null,
   "metadata": {
    "collapsed": false
   },
   "outputs": [],
   "source": [
    "print(p.PISA.getInterfaces(pdbid='3gcb', assemblyid='0'))"
   ]
  },
  {
   "cell_type": "code",
   "execution_count": null,
   "metadata": {
    "collapsed": false
   },
   "outputs": [],
   "source": [
    "print(p.PISA.getNumberInterfaces(pdbid='3gcb', assemblyid='0'))"
   ]
  },
  {
   "cell_type": "code",
   "execution_count": null,
   "metadata": {
    "collapsed": false
   },
   "outputs": [],
   "source": [
    "print(p.PISA.getInterfacesList(pdbid='3gcb', assemblyid='0'))"
   ]
  },
  {
   "cell_type": "code",
   "execution_count": null,
   "metadata": {
    "collapsed": false
   },
   "outputs": [],
   "source": [
    "print(p.PISA.getInterfaceDetails(pdbid='3gcb', assemblyid='0',\n",
    "                                 interface_index=1))"
   ]
  },
  {
   "cell_type": "code",
   "execution_count": null,
   "metadata": {
    "collapsed": false
   },
   "outputs": [],
   "source": [
    "print(p.PISA.getInterfaceComponent(pdbid='3gcb', assemblyid='0',\n",
    "                                   interface_index=1,\n",
    "                                   interface_component='energetics'))"
   ]
  },
  {
   "cell_type": "markdown",
   "metadata": {},
   "source": [
    "**SSM**"
   ]
  },
  {
   "cell_type": "code",
   "execution_count": 28,
   "metadata": {
    "collapsed": false
   },
   "outputs": [
    {
     "name": "stdout",
     "output_type": "stream",
     "text": [
      "The following endpoints are available:\n",
      "    getMatchStandard\n",
      "    getVersion\n",
      "    getMatchDetail\n",
      "    getNumberMatches\n",
      "    getMatchSummary\n"
     ]
    }
   ],
   "source": [
    "print(p.SSM.endpoints())"
   ]
  },
  {
   "cell_type": "code",
   "execution_count": null,
   "metadata": {
    "collapsed": false
   },
   "outputs": [],
   "source": [
    "print(p.SSM.getVersion())"
   ]
  },
  {
   "cell_type": "code",
   "execution_count": null,
   "metadata": {
    "collapsed": false
   },
   "outputs": [],
   "source": [
    "print(p.SSM.getMatchStandard(pdbid='3gcb')) "
   ]
  },
  {
   "cell_type": "code",
   "execution_count": null,
   "metadata": {
    "collapsed": false
   },
   "outputs": [],
   "source": [
    "print(p.SSM.getNumberMatches(pdbid='3gcb'))"
   ]
  },
  {
   "cell_type": "code",
   "execution_count": null,
   "metadata": {
    "collapsed": false
   },
   "outputs": [],
   "source": [
    "print(p.SSM.getMatchSummary(pdbid='3gcb'))"
   ]
  },
  {
   "cell_type": "code",
   "execution_count": null,
   "metadata": {
    "collapsed": false
   },
   "outputs": [],
   "source": [
    "print(p.SSM.getMatchDetail(pdbid='3gcb', ssm_index=1))"
   ]
  },
  {
   "cell_type": "markdown",
   "metadata": {},
   "source": [
    "**VALIDATION**"
   ]
  },
  {
   "cell_type": "code",
   "execution_count": 29,
   "metadata": {
    "collapsed": false
   },
   "outputs": [
    {
     "name": "stdout",
     "output_type": "stream",
     "text": [
      "The following endpoints are available:\n",
      "    getGlobalRelativePercentiles\n",
      "    getRamachandranSidechainOutliers\n",
      "    getGlobalPercentilesDetails\n",
      "    getVanDerWaalOverlaps\n",
      "    getBackboneSidechainQuality\n",
      "    getSuitePuckerRnaOutliers\n",
      "    getAllOutliersUnitId\n",
      "    getOutlierTypesResidues\n",
      "    getDiffractionRefinementDescriptors\n",
      "    getGlobalAbsolutePercentilesSummary\n",
      "    getGeometryOutliers\n"
     ]
    }
   ],
   "source": [
    "print(p.VALIDATION.endpoints())"
   ]
  },
  {
   "cell_type": "code",
   "execution_count": null,
   "metadata": {
    "collapsed": false
   },
   "outputs": [],
   "source": [
    "print(p.VALIDATION.getGlobalRelativePercentiles(pdbid='1cbs'))"
   ]
  },
  {
   "cell_type": "code",
   "execution_count": null,
   "metadata": {
    "collapsed": false
   },
   "outputs": [],
   "source": [
    "print(p.VALIDATION.getGlobalAbsolutePercentilesSummary(pdbid='1cbs'))"
   ]
  },
  {
   "cell_type": "code",
   "execution_count": null,
   "metadata": {
    "collapsed": false
   },
   "outputs": [],
   "source": [
    "print(p.VALIDATION.getGlobalPercentilesDetails(pdbid='1cbs'))"
   ]
  },
  {
   "cell_type": "code",
   "execution_count": null,
   "metadata": {
    "collapsed": false
   },
   "outputs": [],
   "source": [
    "print(p.VALIDATION.getDiffractionRefinementDescriptors(pdbid='1cbs'))"
   ]
  },
  {
   "cell_type": "code",
   "execution_count": null,
   "metadata": {
    "collapsed": false
   },
   "outputs": [],
   "source": [
    "print(p.VALIDATION.getRamachandranSidechainOutliers(pdbid='1cbs'))"
   ]
  },
  {
   "cell_type": "code",
   "execution_count": null,
   "metadata": {
    "collapsed": false
   },
   "outputs": [],
   "source": [
    "print(p.VALIDATION.getBackboneSidechainQuality(pdbid='1cbs'))"
   ]
  },
  {
   "cell_type": "code",
   "execution_count": null,
   "metadata": {
    "collapsed": false
   },
   "outputs": [],
   "source": [
    "print(p.VALIDATION.getSuitePuckerRnaOutliers(pdbid='1cbs'))"
   ]
  },
  {
   "cell_type": "code",
   "execution_count": null,
   "metadata": {
    "collapsed": false
   },
   "outputs": [],
   "source": [
    "print(p.VALIDATION.getOutlierTypesResidues(pdbid='1cbs'))"
   ]
  },
  {
   "cell_type": "code",
   "execution_count": null,
   "metadata": {
    "collapsed": false
   },
   "outputs": [],
   "source": [
    "print(p.VALIDATION.getVanDerWaalOverlaps(pdbid='1cbs'))"
   ]
  },
  {
   "cell_type": "code",
   "execution_count": null,
   "metadata": {
    "collapsed": false
   },
   "outputs": [],
   "source": [
    "print(p.VALIDATION.getGeometryOutliers(pdbid='1cbs'))"
   ]
  },
  {
   "cell_type": "code",
   "execution_count": null,
   "metadata": {
    "collapsed": false
   },
   "outputs": [],
   "source": [
    "print(p.VALIDATION.getAllOutliersUnitId(pdbid='1cbs'))"
   ]
  },
  {
   "cell_type": "code",
   "execution_count": null,
   "metadata": {
    "collapsed": false
   },
   "outputs": [],
   "source": [
    "# post method\n",
    "print(p.VALIDATION.getAllOutliersUnitId(pdbid='2pah, 1cbs', method='POST'))"
   ]
  },
  {
   "cell_type": "markdown",
   "metadata": {},
   "source": [
    "**TOPOLOGY**"
   ]
  },
  {
   "cell_type": "code",
   "execution_count": 30,
   "metadata": {
    "collapsed": false
   },
   "outputs": [
    {
     "name": "stdout",
     "output_type": "stream",
     "text": [
      "The following endpoints are available:\n",
      "    getTopology\n",
      "    getTopologyPerChain\n"
     ]
    }
   ],
   "source": [
    "print(p.TOPOLOGY.endpoints())"
   ]
  },
  {
   "cell_type": "code",
   "execution_count": null,
   "metadata": {
    "collapsed": false
   },
   "outputs": [],
   "source": [
    "print(p.TOPOLOGY.getTopology(pdbid='1csb'))"
   ]
  },
  {
   "cell_type": "code",
   "execution_count": null,
   "metadata": {
    "collapsed": false
   },
   "outputs": [],
   "source": [
    "print(p.TOPOLOGY.getTopologyPerChain(pdbid='1csb', chainid='A'))"
   ]
  },
  {
   "cell_type": "markdown",
   "metadata": {},
   "source": [
    "**SEARCH**"
   ]
  },
  {
   "cell_type": "code",
   "execution_count": 31,
   "metadata": {
    "collapsed": false
   },
   "outputs": [
    {
     "name": "stdout",
     "output_type": "stream",
     "text": [
      "The following endpoints are available:\n",
      "    getSearch\n"
     ]
    }
   ],
   "source": [
    "print(p.SEARCH.endpoints())"
   ]
  },
  {
   "cell_type": "code",
   "execution_count": null,
   "metadata": {
    "collapsed": false
   },
   "outputs": [],
   "source": [
    "print(p.SEARCH.getSearch(query='q=pfam_name:Lipocalin&wt=json'))"
   ]
  }
 ],
 "metadata": {
  "kernelspec": {
   "display_name": "Python 2",
   "language": "python",
   "name": "python2"
  },
  "language_info": {
   "codemirror_mode": {
    "name": "ipython",
    "version": 2
   },
   "file_extension": ".py",
   "mimetype": "text/x-python",
   "name": "python",
   "nbconvert_exporter": "python",
   "pygments_lexer": "ipython2",
   "version": "2.7.9"
  }
 },
 "nbformat": 4,
 "nbformat_minor": 0
}
